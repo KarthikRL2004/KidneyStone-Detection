import tensorflow as tf
from tensorflow.keras.preprocessing import image
import matplotlib.pyplot as plt
import matplotlib.image as mpimg
import numpy as np

# Path to the image file
image_path = '/content/ct-kidney-dataset-normal-cyst-tumor-and-stone/CT-KIDNEY-DATASET-Normal-Cyst-Tumor-Stone/CT-KIDNEY-DATASET-Normal-Cyst-Tumor-Stone/Stone/Stone- (1035).jpg'

# Load and display the image
img = mpimg.imread(image_path)
print("Original image shape/size: ", img.shape)
plt.imshow(img)  # Assuming the image is grayscale
plt.axis('off')  # Turn off axis labels
plt.show()

def classify_image(image_path):
    # Load and preprocess the image
    img = image.load_img(image_path, target_size=(200, 200))
    x = image.img_to_array(img)
    x = np.expand_dims(x, axis=0)

    preds = model.predict(x)
    pred = np.argmax(preds)
    print("prediction Output = ",pred)
    print("Predicted as: ", diseases_labels[pred])

# Example usage
classify_image(image_path)
